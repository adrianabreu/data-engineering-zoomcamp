{
 "cells": [
  {
   "cell_type": "code",
   "execution_count": 2,
   "id": "6e475366-4093-4e85-a3dd-681d58a91b73",
   "metadata": {
    "tags": []
   },
   "outputs": [
    {
     "name": "stdout",
     "output_type": "stream",
     "text": [
      "+----------+-------------+--------------------+------------+\n",
      "|LocationID|      Borough|                Zone|service_zone|\n",
      "+----------+-------------+--------------------+------------+\n",
      "|         1|          EWR|      Newark Airport|         EWR|\n",
      "|         2|       Queens|         Jamaica Bay|   Boro Zone|\n",
      "|         3|        Bronx|Allerton/Pelham G...|   Boro Zone|\n",
      "|         4|    Manhattan|       Alphabet City| Yellow Zone|\n",
      "|         5|Staten Island|       Arden Heights|   Boro Zone|\n",
      "|         6|Staten Island|Arrochar/Fort Wad...|   Boro Zone|\n",
      "|         7|       Queens|             Astoria|   Boro Zone|\n",
      "|         8|       Queens|        Astoria Park|   Boro Zone|\n",
      "|         9|       Queens|          Auburndale|   Boro Zone|\n",
      "|        10|       Queens|        Baisley Park|   Boro Zone|\n",
      "|        11|     Brooklyn|          Bath Beach|   Boro Zone|\n",
      "|        12|    Manhattan|        Battery Park| Yellow Zone|\n",
      "|        13|    Manhattan|   Battery Park City| Yellow Zone|\n",
      "|        14|     Brooklyn|           Bay Ridge|   Boro Zone|\n",
      "|        15|       Queens|Bay Terrace/Fort ...|   Boro Zone|\n",
      "|        16|       Queens|             Bayside|   Boro Zone|\n",
      "|        17|     Brooklyn|             Bedford|   Boro Zone|\n",
      "|        18|        Bronx|        Bedford Park|   Boro Zone|\n",
      "|        19|       Queens|           Bellerose|   Boro Zone|\n",
      "|        20|        Bronx|             Belmont|   Boro Zone|\n",
      "+----------+-------------+--------------------+------------+\n",
      "only showing top 20 rows\n",
      "\n"
     ]
    }
   ],
   "source": [
    "import pyspark\n",
    "from pyspark.sql import SparkSession\n",
    "\n",
    "spark = SparkSession.builder \\\n",
    "    .master(\"local[*]\") \\\n",
    "    .appName('test') \\\n",
    "    .getOrCreate()\n",
    "\n",
    "df = spark.read \\\n",
    "    .option(\"header\", \"true\") \\\n",
    "    .csv('taxi+_zone_lookup.csv')\n",
    "\n",
    "df.show()"
   ]
  },
  {
   "cell_type": "code",
   "execution_count": 3,
   "id": "33a02ee5-2bcd-4d8c-b70d-2cd3966d3c5a",
   "metadata": {
    "tags": []
   },
   "outputs": [
    {
     "data": {
      "text/plain": [
       "'3.3.2'"
      ]
     },
     "execution_count": 3,
     "metadata": {},
     "output_type": "execute_result"
    }
   ],
   "source": [
    "spark.version"
   ]
  },
  {
   "cell_type": "code",
   "execution_count": 14,
   "id": "47347ee3-81c6-46bb-8aae-267e7f9614d7",
   "metadata": {
    "tags": []
   },
   "outputs": [],
   "source": [
    "from pyspark.sql.types import *\n",
    "\n",
    "fhv_schema = StructType([\n",
    "    StructField('dispatching_base_num', StringType(), True), \n",
    "    StructField('pickup_datetime', TimestampType(), True), \n",
    "    StructField('dropOff_datetime', TimestampType(), True), \n",
    "    StructField('PUlocationID', IntegerType(), True), \n",
    "    StructField('DOlocationID', IntegerType(), True), \n",
    "    StructField('SR_Flag', StringType(), True), \n",
    "    StructField('Affiliated_base_number', StringType(), True)\n",
    "])"
   ]
  },
  {
   "cell_type": "code",
   "execution_count": 16,
   "id": "fca9426d-dbd2-4b5f-9122-50f4279a4f9a",
   "metadata": {
    "tags": []
   },
   "outputs": [],
   "source": [
    "fhv = spark.read \\\n",
    "    .option(\"header\", \"true\") \\\n",
    "    .option(\"compression\", \"gzip\") \\\n",
    "    .schema(fhv_schema) \\\n",
    "    .csv('fhv_tripdata_2019-10.csv.gz')"
   ]
  },
  {
   "cell_type": "code",
   "execution_count": 7,
   "id": "9b002cc1-d871-4ca9-933e-f77e95f815ea",
   "metadata": {
    "tags": []
   },
   "outputs": [],
   "source": [
    "fhv \\\n",
    ".repartition(6) \\\n",
    ".write \\\n",
    ".mode('overwrite') \\\n",
    ".parquet('fhv')"
   ]
  },
  {
   "cell_type": "code",
   "execution_count": 17,
   "id": "5785cc24-1f85-4c69-82a5-4ab6dd000b97",
   "metadata": {
    "tags": []
   },
   "outputs": [
    {
     "data": {
      "text/plain": [
       "62610"
      ]
     },
     "execution_count": 17,
     "metadata": {},
     "output_type": "execute_result"
    }
   ],
   "source": [
    "from pyspark.sql.functions import col\n",
    "\n",
    "fhv \\\n",
    ".filter((col('pickup_datetime') >= '2019-10-15') & (col('pickup_datetime') < '2019-10-16')) \\\n",
    ".count()"
   ]
  },
  {
   "cell_type": "code",
   "execution_count": 23,
   "id": "3357e50b-1828-4429-870f-e5c6ea2bc157",
   "metadata": {
    "tags": []
   },
   "outputs": [
    {
     "name": "stdout",
     "output_type": "stream",
     "text": [
      "+--------------------+-------------------+-------------------+------------+------------+-------+----------------------+----------+------------------+\n",
      "|dispatching_base_num|    pickup_datetime|   dropOff_datetime|PUlocationID|DOlocationID|SR_Flag|Affiliated_base_number|    length|   length_in_hours|\n",
      "+--------------------+-------------------+-------------------+------------+------------+-------+----------------------+----------+------------------+\n",
      "|              B02832|2019-10-11 18:00:00|2091-10-11 18:30:00|         264|         264|   null|                B02832|2272149000|          631152.5|\n",
      "|              B02832|2019-10-28 09:00:00|2091-10-28 09:30:00|         264|         264|   null|                B02832|2272149000|          631152.5|\n",
      "|              B02416|2019-10-31 23:46:33|2029-11-01 00:13:00|        null|        null|   null|                B02416| 315620787| 87672.44083333333|\n",
      "|     B00746         |2019-10-01 21:43:42|2027-10-01 21:45:23|         159|         264|   null|       B00746         | 252460901| 70128.02805555555|\n",
      "|              B02921|2019-10-17 14:00:00|2020-10-18 00:00:00|        null|        null|   null|                B03037|  31658400|            8794.0|\n",
      "|              B03110|2019-10-26 21:26:00|2020-10-26 21:36:00|         264|         264|   null|                B03110|  31623000| 8784.166666666666|\n",
      "|              B03080|2019-10-30 12:30:04|2019-12-30 13:02:08|         264|          50|   null|                B02883|   5272324|1464.5344444444445|\n",
      "|     B03084         |2019-10-25 07:04:57|2019-12-08 07:54:33|         168|         235|   null|                B02765|   3804576|1056.8266666666666|\n",
      "|     B03084         |2019-10-25 07:04:57|2019-12-08 07:21:11|         168|         235|   null|                B02765|   3802574|1056.2705555555556|\n",
      "|              B01452|2019-10-01 13:47:17|2019-11-03 15:20:28|          44|         214|   null|                B01452|   2856791| 793.5530555555556|\n",
      "|              B01452|2019-10-01 07:21:12|2019-11-03 08:44:21|           5|           6|   null|                B01452|   2856189| 793.3858333333334|\n",
      "|              B01452|2019-10-01 13:41:00|2019-11-03 14:58:51|         206|         172|   null|                B01452|   2855871|          793.2975|\n",
      "|              B01452|2019-10-01 18:43:20|2019-11-03 19:43:13|          23|           5|   null|                B01452|   2854793| 792.9980555555555|\n",
      "|              B01452|2019-10-01 18:43:46|2019-11-03 19:43:04|         251|          44|   null|                B01452|   2854758| 792.9883333333333|\n",
      "|              B01452|2019-10-01 07:07:09|2019-11-03 07:58:46|         204|          23|   null|                B01452|   2854297| 792.8602777777778|\n",
      "|              B01452|2019-10-01 14:49:28|2019-11-03 15:38:07|         214|         156|   null|                B01452|   2854119| 792.8108333333333|\n",
      "|              B01452|2019-10-01 05:36:30|2019-11-03 06:23:36|         214|          84|   null|                B01452|   2854026|           792.785|\n",
      "|              B00972|2019-10-01 15:02:55|2019-11-03 15:49:05|         204|           1|   null|                B00972|   2853970| 792.7694444444444|\n",
      "|              B00972|2019-10-01 06:08:01|2019-11-03 06:53:15|         156|         204|   null|                B00972|   2853914| 792.7538888888889|\n",
      "|              B01452|2019-10-01 06:41:17|2019-11-03 07:26:04|          44|          23|   null|                B01452|   2853887| 792.7463888888889|\n",
      "+--------------------+-------------------+-------------------+------------+------------+-------+----------------------+----------+------------------+\n",
      "only showing top 20 rows\n",
      "\n"
     ]
    }
   ],
   "source": [
    "fhv \\\n",
    ".withColumn('length', (col('dropOff_datetime').cast(LongType()) - col('pickup_datetime').cast(LongType()))) \\\n",
    ".withColumn('length_in_hours', col('length') / 3600) \\\n",
    ".orderBy(col('length_in_hours').desc()) \\\n",
    ".show()"
   ]
  },
  {
   "cell_type": "code",
   "execution_count": 24,
   "id": "32af38c9-cc0b-49b1-b632-a76ef94f6bfe",
   "metadata": {
    "tags": []
   },
   "outputs": [],
   "source": [
    "df.createTempView('zones')"
   ]
  },
  {
   "cell_type": "code",
   "execution_count": 26,
   "id": "f8451979-1a9a-4f4a-9361-c37b013f8392",
   "metadata": {
    "tags": []
   },
   "outputs": [
    {
     "name": "stdout",
     "output_type": "stream",
     "text": [
      "+----------+-------------+--------------------+------------+\n",
      "|LocationID|      Borough|                Zone|service_zone|\n",
      "+----------+-------------+--------------------+------------+\n",
      "|         1|          EWR|      Newark Airport|         EWR|\n",
      "|         2|       Queens|         Jamaica Bay|   Boro Zone|\n",
      "|         3|        Bronx|Allerton/Pelham G...|   Boro Zone|\n",
      "|         4|    Manhattan|       Alphabet City| Yellow Zone|\n",
      "|         5|Staten Island|       Arden Heights|   Boro Zone|\n",
      "|         6|Staten Island|Arrochar/Fort Wad...|   Boro Zone|\n",
      "|         7|       Queens|             Astoria|   Boro Zone|\n",
      "|         8|       Queens|        Astoria Park|   Boro Zone|\n",
      "|         9|       Queens|          Auburndale|   Boro Zone|\n",
      "|        10|       Queens|        Baisley Park|   Boro Zone|\n",
      "|        11|     Brooklyn|          Bath Beach|   Boro Zone|\n",
      "|        12|    Manhattan|        Battery Park| Yellow Zone|\n",
      "|        13|    Manhattan|   Battery Park City| Yellow Zone|\n",
      "|        14|     Brooklyn|           Bay Ridge|   Boro Zone|\n",
      "|        15|       Queens|Bay Terrace/Fort ...|   Boro Zone|\n",
      "|        16|       Queens|             Bayside|   Boro Zone|\n",
      "|        17|     Brooklyn|             Bedford|   Boro Zone|\n",
      "|        18|        Bronx|        Bedford Park|   Boro Zone|\n",
      "|        19|       Queens|           Bellerose|   Boro Zone|\n",
      "|        20|        Bronx|             Belmont|   Boro Zone|\n",
      "+----------+-------------+--------------------+------------+\n",
      "only showing top 20 rows\n",
      "\n"
     ]
    }
   ],
   "source": [
    "spark.sql('select * from zones').show()"
   ]
  },
  {
   "cell_type": "code",
   "execution_count": 29,
   "id": "cd3041e4-8a6d-4392-aae3-be38aa010246",
   "metadata": {
    "tags": []
   },
   "outputs": [],
   "source": [
    "fhv.createOrReplaceTempView('fhv')"
   ]
  },
  {
   "cell_type": "code",
   "execution_count": 35,
   "id": "e8b0a754-91c2-4773-b190-03c37ca7c555",
   "metadata": {
    "tags": []
   },
   "outputs": [
    {
     "name": "stdout",
     "output_type": "stream",
     "text": [
      "+--------------------+-----+\n",
      "|                Zone|trips|\n",
      "+--------------------+-----+\n",
      "|         Jamaica Bay|    1|\n",
      "|Governor's Island...|    2|\n",
      "| Green-Wood Cemetery|    5|\n",
      "|       Broad Channel|    8|\n",
      "|     Highbridge Park|   14|\n",
      "|        Battery Park|   15|\n",
      "|Saint Michaels Ce...|   23|\n",
      "|Breezy Point/Fort...|   25|\n",
      "|Marine Park/Floyd...|   26|\n",
      "|        Astoria Park|   29|\n",
      "+--------------------+-----+\n",
      "only showing top 10 rows\n",
      "\n"
     ]
    }
   ],
   "source": [
    "spark.sql(\"\"\"\n",
    "select Zone, count(*) as trips\n",
    "from fhv f\n",
    "inner join zones z\n",
    "on f.PUlocationID = z.LocationID\n",
    "group by Zone\n",
    "order by trips asc\n",
    "\"\"\").show(10)"
   ]
  },
  {
   "cell_type": "code",
   "execution_count": null,
   "id": "85033d05-5bb3-4d73-8637-fb6278e65b5e",
   "metadata": {},
   "outputs": [],
   "source": []
  }
 ],
 "metadata": {
  "kernelspec": {
   "display_name": "Python 3 (ipykernel)",
   "language": "python",
   "name": "python3"
  },
  "language_info": {
   "codemirror_mode": {
    "name": "ipython",
    "version": 3
   },
   "file_extension": ".py",
   "mimetype": "text/x-python",
   "name": "python",
   "nbconvert_exporter": "python",
   "pygments_lexer": "ipython3",
   "version": "3.10.10"
  }
 },
 "nbformat": 4,
 "nbformat_minor": 5
}
